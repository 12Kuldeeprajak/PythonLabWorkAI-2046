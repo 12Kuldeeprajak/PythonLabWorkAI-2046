{
  "nbformat": 4,
  "nbformat_minor": 0,
  "metadata": {
    "colab": {
      "provenance": []
    },
    "kernelspec": {
      "name": "python3",
      "display_name": "Python 3"
    },
    "language_info": {
      "name": "python"
    }
  },
  "cells": [
    {
      "cell_type": "markdown",
      "source": [
        "                                     ASSIGNMENT\n",
        "                                      PYTHON\n",
        "                                     AI-2046\n",
        "\n",
        "\n",
        "SUBMITTED TO:                         PROF.RASHI KUMAR                                            \n",
        "\n",
        "SUBMITTED BY:  KULDEEP RAJAK\n",
        "\n",
        "EN.NO-                                                                                              \n",
        "0108AI211024\n",
        "\n",
        "AIADS\n"
      ],
      "metadata": {
        "id": "VC19-hsUU4ps"
      }
    },
    {
      "cell_type": "code",
      "execution_count": 9,
      "metadata": {
        "colab": {
          "base_uri": "https://localhost:8080/"
        },
        "id": "Fo3vKtChMhM8",
        "outputId": "5007f59e-4934-4540-ae5e-3dc166f48a8d"
      },
      "outputs": [
        {
          "output_type": "stream",
          "name": "stdout",
          "text": [
            "3 + 5 + 9 = 17\n"
          ]
        }
      ],
      "source": [
        "# Q.1 Sum 3 number using python.\n",
        "# Sol. \n",
        "num1 = 3\n",
        "num2 = 5\n",
        "num3 = 9\n",
        "# add three numbers\n",
        "sum = num1 + num2 + num3\n",
        "print('{0} + {1} + {2} = {3}'.format(num1, num2, num3, sum))\n",
        "\n"
      ]
    },
    {
      "cell_type": "code",
      "source": [
        "#Q.2 Program to show various ways to read and write data in a file.\n",
        "#Sol.Code\n",
        "file1 = open(\"myfile.txt\",\"w\")\n",
        "L = [\"This is Delhi \\n\",\"This is Paris \\n\",\"This is London \\n\"]\n",
        "\n",
        "# \\n is placed to indicate EOL (End of Line)\n",
        "file1.write(\"Hello \\n\")\n",
        "file1.writelines(L)\n",
        "file1.close() #to change file access modes\n",
        "\n",
        "file1 = open(\"myfile.txt\",\"r+\")\n",
        "\n",
        "print(\"Output of Read function is \")\n",
        "print(file1.read())\n",
        "print()\n",
        "\n",
        "# seek(n) takes the file handle to the nth\n",
        "# byte from the beginning.\n",
        "file1.seek(0)\n",
        "\n",
        "print( \"Output of Readline function is \")\n",
        "print(file1.readline())\n",
        "print()\n",
        "\n",
        "file1.seek(0)\n",
        "\n",
        "# To show difference between read and readline\n",
        "print(\"Output of Read(9) function is \")\n",
        "print(file1.read(9))\n",
        "print()\n",
        "\n",
        "file1.seek(0)\n",
        "\n",
        "print(\"Output of Readline(9) function is \")\n",
        "print(file1.readline(9))\n",
        "file1.seek(0)\n",
        "# readlines function\n",
        "print(\"Output of Readlines function is \")\n",
        "print(file1.readlines())\n",
        "print()\n",
        "file1.close()"
      ],
      "metadata": {
        "colab": {
          "base_uri": "https://localhost:8080/"
        },
        "id": "1MYsPTz6MzYp",
        "outputId": "48692374-503a-45cc-ffd2-7bf35fa57fab"
      },
      "execution_count": 2,
      "outputs": [
        {
          "output_type": "stream",
          "name": "stdout",
          "text": [
            "Output of Read function is \n",
            "Hello \n",
            "This is Delhi \n",
            "This is Paris \n",
            "This is London \n",
            "\n",
            "\n",
            "Output of Readline function is \n",
            "Hello \n",
            "\n",
            "\n",
            "Output of Read(9) function is \n",
            "Hello \n",
            "Th\n",
            "\n",
            "Output of Readline(9) function is \n",
            "Hello \n",
            "\n",
            "Output of Readlines function is \n",
            "['Hello \\n', 'This is Delhi \\n', 'This is Paris \\n', 'This is London \\n']\n",
            "\n"
          ]
        }
      ]
    },
    {
      "cell_type": "code",
      "source": [
        "# Q.3 Python program to check whether the number is positive or negative.\n",
        "# Sol.\n",
        "def check(n):\n",
        "\t\n",
        "\t# if the number is positive\n",
        "\tif n > 0:\n",
        "\t\tprint(\"Positive\")\n",
        "\t\t\n",
        "\t# if the number is negative\n",
        "\telif n < 0:\n",
        "\t\tprint(\"Negative\")\n",
        "\t\t\n",
        "\t# if the number is equal to\n",
        "\t# zero\n",
        "\telse:\n",
        "\t\tprint(\"Equal to zero\")\n",
        "\t\t\n",
        "# Driver Code\n",
        "check(5)\n",
        "check(0)\n",
        "check(-5)"
      ],
      "metadata": {
        "colab": {
          "base_uri": "https://localhost:8080/"
        },
        "id": "AJVPH-yvNGTU",
        "outputId": "c74258d9-62b9-4a86-eaf1-05956798c5ae"
      },
      "execution_count": 3,
      "outputs": [
        {
          "output_type": "stream",
          "name": "stdout",
          "text": [
            "Positive\n",
            "Equal to zero\n",
            "Negative\n"
          ]
        }
      ]
    },
    {
      "cell_type": "code",
      "source": [
        "# Q.4  Python program to find the largest number.\n",
        "# Sol.\n",
        "# change the values of num1, num2 and num3\n",
        "# for a different result\n",
        "num1 = 10\n",
        "num2 = 14\n",
        "num3 = 12\n",
        "\n",
        "# uncomment following lines to take three numbers from user\n",
        "#num1 = float(input(\"Enter first number: \"))\n",
        "#num2 = float(input(\"Enter second number: \"))\n",
        "#num3 = float(input(\"Enter third number: \"))\n",
        "\n",
        "if (num1 >= num2) and (num1 >= num3):\n",
        "   largest = num1\n",
        "elif (num2 >= num1) and (num2 >= num3):\n",
        "   largest = num2\n",
        "else:\n",
        "   largest = num3\n",
        "\n",
        "print(\"The largest number is\", largest)\n"
      ],
      "metadata": {
        "colab": {
          "base_uri": "https://localhost:8080/"
        },
        "id": "axaVu286NWGW",
        "outputId": "bdc4d329-2eb6-430d-f110-4a2946f98321"
      },
      "execution_count": 8,
      "outputs": [
        {
          "output_type": "stream",
          "name": "stdout",
          "text": [
            "The largest number is 14\n"
          ]
        }
      ]
    },
    {
      "cell_type": "code",
      "source": [
        "# Q 5. Python print day name of week from number.\n",
        "# Sol.\n",
        "# Taken day number from user\n",
        "weekday = int(input(\"Enter weekday day number (1-7) : \"))\n",
        "\n",
        "if weekday == 1 :\n",
        "    print(\"\\nMonday\");\n",
        "\n",
        "elif weekday == 2 :\n",
        "    print(\"\\nTuesday\")\n",
        "\n",
        "elif(weekday == 3) :\n",
        "    print(\"\\nWednesday\")\n",
        "\n",
        "elif(weekday == 4) :\n",
        "    print(\"\\nThursday\")\n",
        "\n",
        "elif(weekday == 5) :\n",
        "    print(\"\\nFriday\")\n",
        "\n",
        "elif(weekday == 6) :\n",
        "    print(\"\\nSaturday\")\n",
        "\n",
        "elif (weekday == 7) :\n",
        "    print(\"\\nSunday\")\n",
        "\n",
        "else :\n",
        "    print(\"\\nPlease enter weekday number between 1-7.\")\n"
      ],
      "metadata": {
        "colab": {
          "base_uri": "https://localhost:8080/"
        },
        "id": "JtxBuvwJPKZb",
        "outputId": "5d85da66-e052-4cf0-cbea-f49f7efea287"
      },
      "execution_count": 11,
      "outputs": [
        {
          "output_type": "stream",
          "name": "stdout",
          "text": [
            "Enter weekday day number (1-7) : 5\n",
            "\n",
            "Friday\n"
          ]
        }
      ]
    },
    {
      "cell_type": "code",
      "source": [
        "# Q.6 Python Program to Check Prime Number.\n",
        "# Sol.\n",
        "num = 11\n",
        "# If given number is greater than 1\n",
        "if num > 1:\n",
        "\t# Iterate from 2 to n / 2\n",
        "\tfor i in range(2, int(num/2)+1):\n",
        "\t\t# If num is divisible by any number between\n",
        "\t\t# 2 and n / 2, it is not prime\n",
        "\t\tif (num % i) == 0:\n",
        "\t\t\tprint(num, \"is not a prime number\")\n",
        "\t\t\tbreak\n",
        "\telse:\n",
        "\t\tprint(num, \"is a prime number\")\n",
        "else:\n",
        "\tprint(num, \"is not a prime number\")\n"
      ],
      "metadata": {
        "colab": {
          "base_uri": "https://localhost:8080/"
        },
        "id": "zbaMF2I6PbyB",
        "outputId": "1e278631-dbed-4ce3-c297-00a02da8a7b7"
      },
      "execution_count": 12,
      "outputs": [
        {
          "output_type": "stream",
          "name": "stdout",
          "text": [
            "11 is a prime number\n"
          ]
        }
      ]
    },
    {
      "cell_type": "code",
      "source": [
        "# Q.7 Python Program to Check  a number whether it is Palindrome or not.\n",
        "# Sol. \n",
        "def Palindrome(s):\n",
        "\treturn s == s[::-1]\n",
        "s = (input())\n",
        "a = Palindrome(s)\n",
        "\n",
        "if a:\n",
        "\tprint(\"Yes\")\n",
        "else:\n",
        "\tprint(\"No\")\n"
      ],
      "metadata": {
        "colab": {
          "base_uri": "https://localhost:8080/"
        },
        "id": "siMXDiNYPjF-",
        "outputId": "36faa288-3f00-47ec-e810-c9db749420e4"
      },
      "execution_count": 14,
      "outputs": [
        {
          "output_type": "stream",
          "name": "stdout",
          "text": [
            "44\n",
            "Yes\n"
          ]
        }
      ]
    },
    {
      "cell_type": "code",
      "source": [
        "# Q.8 find the factorial of a number with recursion and without recursion.\n",
        "# Sol.\n",
        "a = int(input(\"Enter the number\"))\n",
        "def factor(n):\n",
        " if n==1:\n",
        "  return n\n",
        " else:\n",
        "  return n*factor(n-1)\n",
        "  \n",
        "s = int(input(\"Enter the number\"))\n",
        "  \n",
        "if s < 0:\n",
        "  print(\"factorieal is not possible\")\n",
        "elif s==0:\n",
        " print(\"factorieal is 1\")\n",
        "else:\n",
        "  print(factor(s))\n",
        "# #with out recursion\n",
        "n=int(input(\"Enter number:\"))\n",
        "fact=1\n",
        "while(n>0):\n",
        "    fact=fact*n\n",
        "    n=n-1\n",
        "print(\"Factorial of the number is without recursion5: \")\n",
        "print(fact)"
      ],
      "metadata": {
        "colab": {
          "base_uri": "https://localhost:8080/"
        },
        "id": "ESjaHFvTPtIJ",
        "outputId": "b11cd652-1ef3-459f-9aac-c0b2dc2805ea"
      },
      "execution_count": 18,
      "outputs": [
        {
          "output_type": "stream",
          "name": "stdout",
          "text": [
            "Enter the number5\n",
            "Enter the number5\n",
            "120\n",
            "Enter number:5\n",
            "Factorial of the number is: \n",
            "120\n"
          ]
        }
      ]
    },
    {
      "cell_type": "code",
      "source": [
        "# Q.9 Compare two list whather they are same or not.\n",
        "l1 = input(\"Enther the list like [a,b,c,d...]\")\n",
        "l2 = input(\"Enther the list like [a,b,c,d...]\")\n",
        " \n",
        "if l1 == l2:\n",
        " print(\"list are same\")\n",
        "else:\n",
        " print (\"not same\")\n"
      ],
      "metadata": {
        "colab": {
          "base_uri": "https://localhost:8080/"
        },
        "id": "m8BwfqLjRSZL",
        "outputId": "bda6d757-fe5a-48b0-d0d6-22268a548a8b"
      },
      "execution_count": 19,
      "outputs": [
        {
          "output_type": "stream",
          "name": "stdout",
          "text": [
            "Enther the list like [a,b,c,d...][1,4,7,h]\n",
            "Enther the list like [a,b,c,d...][4,5,1,2]\n",
            "not same\n"
          ]
        }
      ]
    },
    {
      "cell_type": "code",
      "source": [
        "# Q.10 Use lambda function.\n",
        "# Sol.\n",
        "x = lambda a, b : a * b\n",
        "print(x(5, 6)) \n",
        "\n",
        "x = lambda  a,b,c : a+b+c\n",
        "print(x(2,5,8))\n"
      ],
      "metadata": {
        "colab": {
          "base_uri": "https://localhost:8080/"
        },
        "id": "U3U6WCkuReQh",
        "outputId": "595c1a46-81bc-4b0f-e85f-018cd6cb7ab0"
      },
      "execution_count": 20,
      "outputs": [
        {
          "output_type": "stream",
          "name": "stdout",
          "text": [
            "30\n",
            "15\n"
          ]
        }
      ]
    },
    {
      "cell_type": "code",
      "source": [
        "# Q.11 Swapping variables in python with a function.\n",
        "def swap_values(user_val1, user_val2):\n",
        "    return user_val2, user_val1\n",
        "\n",
        "user_val1 = int(input())\n",
        "user_val2 = int(input())\n",
        "swap_values(user_val1, user_val2)\n",
        "\n",
        "print (swap_values(user_val1, user_val2))\n"
      ],
      "metadata": {
        "colab": {
          "base_uri": "https://localhost:8080/"
        },
        "id": "Ssm5XaKLRm5Y",
        "outputId": "97ae7160-7c56-4972-c877-be1a8b640d3f"
      },
      "execution_count": 22,
      "outputs": [
        {
          "output_type": "stream",
          "name": "stdout",
          "text": [
            "7\n",
            "9\n",
            "(9, 7)\n"
          ]
        }
      ]
    },
    {
      "cell_type": "code",
      "source": [
        "# Q.12 Python Program for Fibonacci numbers.\n",
        "# Sol.\n",
        "# Function for nth Fibonacci number\n",
        "def Fibonacci(n):\n",
        "\n",
        "\t# Check if input is 0 then it will\n",
        "\t# print incorrect input\n",
        "\tif n < 0:\n",
        "\t\tprint(\"Incorrect input\")\n",
        "\n",
        "\t# Check if n is 0\n",
        "\t# then it will return 0\n",
        "\telif n == 0:\n",
        "\t\treturn 0\n",
        "\n",
        "\t# Check if n is 1,2\n",
        "\t# it will return 1\n",
        "\telif n == 1 or n == 2:\n",
        "\t\treturn 1\n",
        "\n",
        "\telse:\n",
        "\t\treturn Fibonacci(n-1) + Fibonacci(n-2)\n",
        "\n",
        "print(Fibonacci(9))\n"
      ],
      "metadata": {
        "colab": {
          "base_uri": "https://localhost:8080/"
        },
        "id": "UI4lgqV6RxIi",
        "outputId": "bcaac852-0ddc-43d7-b675-1485d9632b11"
      },
      "execution_count": 23,
      "outputs": [
        {
          "output_type": "stream",
          "name": "stdout",
          "text": [
            "34\n"
          ]
        }
      ]
    },
    {
      "cell_type": "code",
      "source": [
        "# Q.13 Binary Search in python\n",
        "# Sol. \n",
        "def binarySearch(array, x, low, high):\n",
        "\n",
        "    # Repeat until the pointers low and high meet each other\n",
        "    while low <= high:\n",
        "\n",
        "        mid = low + (high - low)//2\n",
        "\n",
        "        if array[mid] == x:\n",
        "            return mid\n",
        "\n",
        "        elif array[mid] < x:\n",
        "            low = mid + 1\n",
        "\n",
        "        else:\n",
        "            high = mid - 1\n",
        "\n",
        "    return -1\n",
        "\n",
        "\n",
        "array = [3, 4, 5, 6, 7, 8, 9]\n",
        "x = 4\n",
        "\n",
        "result = binarySearch(array, x, 0, len(array)-1)\n",
        "\n",
        "if result != -1:\n",
        "    print(\"Element is present at index \" + str(result))\n",
        "else:\n",
        "    print(\"Not found\")\n"
      ],
      "metadata": {
        "colab": {
          "base_uri": "https://localhost:8080/"
        },
        "id": "qYdXBYBNR3SS",
        "outputId": "25b10694-cfba-4215-d8c4-384af4b93b07"
      },
      "execution_count": 24,
      "outputs": [
        {
          "output_type": "stream",
          "name": "stdout",
          "text": [
            "Element is present at index 1\n"
          ]
        }
      ]
    },
    {
      "cell_type": "code",
      "source": [
        "# Q.14 Use filter function in python.\n",
        "# Sol.\n",
        "l = [0, 1, 2, 3, 5, 8, 13]\n",
        "result = filter(lambda x: x % 2 == 0, l)\n",
        "print(list(result))\n"
      ],
      "metadata": {
        "colab": {
          "base_uri": "https://localhost:8080/"
        },
        "id": "ShFwJymeR_ir",
        "outputId": "c2ad19b5-83ea-4fc8-ea69-1312cfa6ac86"
      },
      "execution_count": 25,
      "outputs": [
        {
          "output_type": "stream",
          "name": "stdout",
          "text": [
            "[0, 2, 8]\n"
          ]
        }
      ]
    },
    {
      "cell_type": "code",
      "source": [
        "# Q.15 Use math function in python.\n",
        "# Sol.\n",
        "import math\n",
        "x=math.sqrt(64)\n",
        "print(x)\n"
      ],
      "metadata": {
        "colab": {
          "base_uri": "https://localhost:8080/"
        },
        "id": "5Iwu3dQzSFPG",
        "outputId": "652dd704-7a63-40bd-cdaa-4e77a9771489"
      },
      "execution_count": 26,
      "outputs": [
        {
          "output_type": "stream",
          "name": "stdout",
          "text": [
            "8.0\n"
          ]
        }
      ]
    },
    {
      "cell_type": "code",
      "source": [
        "# Q.16. Double a List using map function\n",
        "# Sol.\n",
        "def double(x):\n",
        "    return x+x\n",
        "li = [4,5,7,8]\n",
        "ans = map (double,li)\n",
        "print(list(ans))\n"
      ],
      "metadata": {
        "colab": {
          "base_uri": "https://localhost:8080/"
        },
        "id": "OH4cnjoMSI7o",
        "outputId": "b74fd5b8-cd03-455a-c65a-f6d67bbf2a18"
      },
      "execution_count": 27,
      "outputs": [
        {
          "output_type": "stream",
          "name": "stdout",
          "text": [
            "[8, 10, 14, 16]\n"
          ]
        }
      ]
    },
    {
      "cell_type": "code",
      "source": [
        "# Q.17 Use reduce function and add two number.\n",
        "# Sol.\n",
        "from functools import reduce \n",
        "\n",
        "nums = [1, 2, 3, 4]\n",
        "ans = reduce(lambda x, y: x + y, nums)\n",
        "print(ans)\n"
      ],
      "metadata": {
        "colab": {
          "base_uri": "https://localhost:8080/"
        },
        "id": "aGCnOjhvSQmS",
        "outputId": "9164b1db-7825-4534-f012-e23c3608ffe7"
      },
      "execution_count": 28,
      "outputs": [
        {
          "output_type": "stream",
          "name": "stdout",
          "text": [
            "10\n"
          ]
        }
      ]
    },
    {
      "cell_type": "code",
      "source": [
        "# Q.18 Write Python code to get the Cumulative sum of a list.\n",
        "# Sol.\n",
        "list=[10,20,30,40,50]\n",
        "new_list=[]\n",
        "j=0\n",
        "for i in range(0,len(list)):\n",
        "\tj+=list[i]\n",
        "\tnew_list.append(j)\n",
        "\t\n",
        "print(new_list)\n",
        "\n"
      ],
      "metadata": {
        "colab": {
          "base_uri": "https://localhost:8080/"
        },
        "id": "cNPSfzKESXhz",
        "outputId": "6ef05e02-d0eb-46d4-d15e-ea45454585f2"
      },
      "execution_count": 31,
      "outputs": [
        {
          "output_type": "stream",
          "name": "stdout",
          "text": [
            "[10, 30, 60, 100, 150]\n"
          ]
        }
      ]
    },
    {
      "cell_type": "code",
      "source": [
        "# Q.19 creating accumulator function (python)\n",
        "# Sol.\n",
        "class MyAccumulator:\n",
        "    def __init__(self):\n",
        "        self.sum = 0\n",
        "    def add(self, number): \n",
        "        self.sum += number\n",
        "        return self.sum\n",
        "\n",
        "A = MyAccumulator().add\n",
        "print(A(10))      # => 10\n",
        "print(A(20))      # => 30\n",
        "print(A(-15))     # => 15\n"
      ],
      "metadata": {
        "colab": {
          "base_uri": "https://localhost:8080/"
        },
        "id": "28QpHS2qTozf",
        "outputId": "68d5ffc1-3e34-40cf-edf0-10b8bf871fb1"
      },
      "execution_count": 32,
      "outputs": [
        {
          "output_type": "stream",
          "name": "stdout",
          "text": [
            "10\n",
            "30\n",
            "15\n"
          ]
        }
      ]
    },
    {
      "cell_type": "code",
      "source": [
        "# Q.20 Python program to display calendar of\n",
        "# Sol.\n",
        "# given month of the year\n",
        "# import module\n",
        "import calendar\n",
        "\n",
        "yy = 2017\n",
        "mm = 11\n",
        "\n",
        "# display the calendar\n",
        "print(calendar.month(yy, mm))\n"
      ],
      "metadata": {
        "colab": {
          "base_uri": "https://localhost:8080/"
        },
        "id": "GpGV0VEHTvxm",
        "outputId": "8d3da025-3f4f-4cea-a667-b817c26a5c54"
      },
      "execution_count": 33,
      "outputs": [
        {
          "output_type": "stream",
          "name": "stdout",
          "text": [
            "   November 2017\n",
            "Mo Tu We Th Fr Sa Su\n",
            "       1  2  3  4  5\n",
            " 6  7  8  9 10 11 12\n",
            "13 14 15 16 17 18 19\n",
            "20 21 22 23 24 25 26\n",
            "27 28 29 30\n",
            "\n"
          ]
        }
      ]
    },
    {
      "cell_type": "code",
      "source": [
        "# Q 21 Use datetime function .\n",
        "# Sol.\n",
        "from datetime import datetime\n",
        "# Getting Datetime from timestamp\n",
        "date_time = datetime.fromtimestamp(1887639468)\n",
        "print(\"Datetime from timestamp:\", date_time)\n"
      ],
      "metadata": {
        "colab": {
          "base_uri": "https://localhost:8080/"
        },
        "id": "pNDWegmDTzK9",
        "outputId": "c7e2f68a-47e1-421f-a78f-7a68d608d250"
      },
      "execution_count": 34,
      "outputs": [
        {
          "output_type": "stream",
          "name": "stdout",
          "text": [
            "Datetime from timestamp: 2029-10-25 16:17:48\n"
          ]
        }
      ]
    },
    {
      "cell_type": "code",
      "source": [
        "# Q.22 Write a python code to add some days to current date  using date function.\n",
        "# Sol.\n",
        "from datetime import datetime\n",
        "from datetime import timedelta\n",
        "\n",
        "# taking input as the date\n",
        "Begindatestring = \"2020-10-11\"\n",
        "\n",
        "# carry out conversion between string\n",
        "# to datetime object\n",
        "Begindate = datetime.strptime(Begindatestring, \"%Y-%m-%d\")\n",
        "\n",
        "# print begin date\n",
        "print(\"Beginning date\")\n",
        "print(Begindate)\n",
        "\n",
        "# calculating end date by adding 10 days\n",
        "Enddate = Begindate + timedelta(days=10)\n",
        "\n",
        "# printing end date\n",
        "print(\"Ending date\")\n",
        "print(Enddate)\n"
      ],
      "metadata": {
        "colab": {
          "base_uri": "https://localhost:8080/"
        },
        "id": "k0yBfOlsT6mi",
        "outputId": "36d7aa77-2f34-4e14-d721-35e81beb5465"
      },
      "execution_count": 35,
      "outputs": [
        {
          "output_type": "stream",
          "name": "stdout",
          "text": [
            "Beginning date\n",
            "2020-10-11 00:00:00\n",
            "Ending date\n",
            "2020-10-21 00:00:00\n"
          ]
        }
      ]
    },
    {
      "cell_type": "code",
      "source": [
        "# Q.23 Use shape,dtype in numpy.\n",
        "# Sol.\n",
        "import numpy as np\n",
        "myarry= np.array([1,2,3,4,5,6],np.int64)\n",
        "myarry[1]\n",
        "myarry.shape\n",
        "myarry.dtype\n"
      ],
      "metadata": {
        "colab": {
          "base_uri": "https://localhost:8080/"
        },
        "id": "ubtskT3sUF0V",
        "outputId": "c8e07567-7881-4a31-fbfc-70c411a5dc7d"
      },
      "execution_count": 37,
      "outputs": [
        {
          "output_type": "execute_result",
          "data": {
            "text/plain": [
              "dtype('int64')"
            ]
          },
          "metadata": {},
          "execution_count": 37
        }
      ]
    }
  ]
}